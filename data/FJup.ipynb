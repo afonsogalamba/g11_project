{
 "cells": [
  {
   "cell_type": "code",
   "execution_count": 48,
   "id": "139102e4-2515-4385-abcd-ebc8111e69d0",
   "metadata": {},
   "outputs": [],
   "source": [
    "import pandas as pd"
   ]
  },
  {
   "cell_type": "code",
   "execution_count": 49,
   "id": "9f9df03b-1e89-48a1-b961-7d7fe4fa4f58",
   "metadata": {},
   "outputs": [],
   "source": [
    "df = pd.read_csv('g11_retail_stores_products_with_suppliers_merged.csv',sep=';')"
   ]
  },
  {
   "cell_type": "code",
   "execution_count": 50,
   "id": "24d4edbb-62a2-4130-a6e6-adc02de0c3fc",
   "metadata": {},
   "outputs": [
    {
     "data": {
      "text/html": [
       "<div>\n",
       "<style scoped>\n",
       "    .dataframe tbody tr th:only-of-type {\n",
       "        vertical-align: middle;\n",
       "    }\n",
       "\n",
       "    .dataframe tbody tr th {\n",
       "        vertical-align: top;\n",
       "    }\n",
       "\n",
       "    .dataframe thead th {\n",
       "        text-align: right;\n",
       "    }\n",
       "</style>\n",
       "<table border=\"1\" class=\"dataframe\">\n",
       "  <thead>\n",
       "    <tr style=\"text-align: right;\">\n",
       "      <th></th>\n",
       "      <th>stores_id</th>\n",
       "      <th>products_id</th>\n",
       "      <th>stock_level</th>\n",
       "      <th>restock_date</th>\n",
       "      <th>store_name</th>\n",
       "      <th>location</th>\n",
       "      <th>product_name</th>\n",
       "      <th>category</th>\n",
       "      <th>price</th>\n",
       "      <th>suppliers_id</th>\n",
       "      <th>supplier_name</th>\n",
       "      <th>contact</th>\n",
       "    </tr>\n",
       "  </thead>\n",
       "  <tbody>\n",
       "    <tr>\n",
       "      <th>0</th>\n",
       "      <td>92</td>\n",
       "      <td>414</td>\n",
       "      <td>86</td>\n",
       "      <td>12/01/2025</td>\n",
       "      <td>Store rule</td>\n",
       "      <td>Port Franciscoland</td>\n",
       "      <td>style</td>\n",
       "      <td>Electronics</td>\n",
       "      <td>414</td>\n",
       "      <td>34</td>\n",
       "      <td>Webb Group</td>\n",
       "      <td>472-778-9372x6856</td>\n",
       "    </tr>\n",
       "    <tr>\n",
       "      <th>1</th>\n",
       "      <td>90</td>\n",
       "      <td>113</td>\n",
       "      <td>73</td>\n",
       "      <td>09/01/2025</td>\n",
       "      <td>Store expert</td>\n",
       "      <td>Nicoleview</td>\n",
       "      <td>claim</td>\n",
       "      <td>Home</td>\n",
       "      <td>463</td>\n",
       "      <td>20</td>\n",
       "      <td>Shannon-Kramer</td>\n",
       "      <td>729.301.5945x230</td>\n",
       "    </tr>\n",
       "    <tr>\n",
       "      <th>2</th>\n",
       "      <td>81</td>\n",
       "      <td>297</td>\n",
       "      <td>37</td>\n",
       "      <td>29/01/2025</td>\n",
       "      <td>Store that</td>\n",
       "      <td>North Timothyburgh</td>\n",
       "      <td>pass</td>\n",
       "      <td>Clothing</td>\n",
       "      <td>437</td>\n",
       "      <td>35</td>\n",
       "      <td>Morrow-Huang</td>\n",
       "      <td>001-557-698-8793x234</td>\n",
       "    </tr>\n",
       "  </tbody>\n",
       "</table>\n",
       "</div>"
      ],
      "text/plain": [
       "   stores_id  products_id  stock_level restock_date    store_name  \\\n",
       "0         92          414           86   12/01/2025    Store rule   \n",
       "1         90          113           73   09/01/2025  Store expert   \n",
       "2         81          297           37   29/01/2025    Store that   \n",
       "\n",
       "             location product_name     category  price  suppliers_id  \\\n",
       "0  Port Franciscoland        style  Electronics    414            34   \n",
       "1          Nicoleview        claim         Home    463            20   \n",
       "2  North Timothyburgh         pass     Clothing    437            35   \n",
       "\n",
       "    supplier_name               contact  \n",
       "0      Webb Group     472-778-9372x6856  \n",
       "1  Shannon-Kramer      729.301.5945x230  \n",
       "2    Morrow-Huang  001-557-698-8793x234  "
      ]
     },
     "execution_count": 50,
     "metadata": {},
     "output_type": "execute_result"
    }
   ],
   "source": [
    "df.head(3)"
   ]
  },
  {
   "cell_type": "code",
   "execution_count": 51,
   "id": "f6212e0d-0bcb-4d7e-8832-42180ea0927b",
   "metadata": {},
   "outputs": [
    {
     "data": {
      "text/html": [
       "<div>\n",
       "<style scoped>\n",
       "    .dataframe tbody tr th:only-of-type {\n",
       "        vertical-align: middle;\n",
       "    }\n",
       "\n",
       "    .dataframe tbody tr th {\n",
       "        vertical-align: top;\n",
       "    }\n",
       "\n",
       "    .dataframe thead th {\n",
       "        text-align: right;\n",
       "    }\n",
       "</style>\n",
       "<table border=\"1\" class=\"dataframe\">\n",
       "  <thead>\n",
       "    <tr style=\"text-align: right;\">\n",
       "      <th></th>\n",
       "      <th>stores_id</th>\n",
       "      <th>products_id</th>\n",
       "      <th>stock_level</th>\n",
       "      <th>restock_date</th>\n",
       "      <th>store_name</th>\n",
       "      <th>location</th>\n",
       "      <th>product_name</th>\n",
       "      <th>category</th>\n",
       "      <th>price</th>\n",
       "      <th>suppliers_id</th>\n",
       "      <th>supplier_name</th>\n",
       "      <th>contact</th>\n",
       "    </tr>\n",
       "  </thead>\n",
       "  <tbody>\n",
       "    <tr>\n",
       "      <th>999</th>\n",
       "      <td>1</td>\n",
       "      <td>148</td>\n",
       "      <td>15</td>\n",
       "      <td>20/02/2025</td>\n",
       "      <td>Store good</td>\n",
       "      <td>West Brandy</td>\n",
       "      <td>west</td>\n",
       "      <td>Home</td>\n",
       "      <td>237</td>\n",
       "      <td>1</td>\n",
       "      <td>Wood-Johnson</td>\n",
       "      <td>815.793.8750x5252</td>\n",
       "    </tr>\n",
       "    <tr>\n",
       "      <th>1829</th>\n",
       "      <td>1</td>\n",
       "      <td>317</td>\n",
       "      <td>7</td>\n",
       "      <td>23/01/2025</td>\n",
       "      <td>Store good</td>\n",
       "      <td>West Brandy</td>\n",
       "      <td>benefit</td>\n",
       "      <td>Clothing</td>\n",
       "      <td>403</td>\n",
       "      <td>26</td>\n",
       "      <td>Jones-Phillips</td>\n",
       "      <td>302-698-5926x49136</td>\n",
       "    </tr>\n",
       "    <tr>\n",
       "      <th>372</th>\n",
       "      <td>1</td>\n",
       "      <td>198</td>\n",
       "      <td>77</td>\n",
       "      <td>09/01/2025</td>\n",
       "      <td>Store good</td>\n",
       "      <td>West Brandy</td>\n",
       "      <td>his</td>\n",
       "      <td>Home</td>\n",
       "      <td>277</td>\n",
       "      <td>18</td>\n",
       "      <td>Bennett LLC</td>\n",
       "      <td>+1-370-863-0463x10452</td>\n",
       "    </tr>\n",
       "  </tbody>\n",
       "</table>\n",
       "</div>"
      ],
      "text/plain": [
       "      stores_id  products_id  stock_level restock_date  store_name  \\\n",
       "999           1          148           15   20/02/2025  Store good   \n",
       "1829          1          317            7   23/01/2025  Store good   \n",
       "372           1          198           77   09/01/2025  Store good   \n",
       "\n",
       "         location product_name  category  price  suppliers_id   supplier_name  \\\n",
       "999   West Brandy         west      Home    237             1    Wood-Johnson   \n",
       "1829  West Brandy      benefit  Clothing    403            26  Jones-Phillips   \n",
       "372   West Brandy          his      Home    277            18     Bennett LLC   \n",
       "\n",
       "                    contact  \n",
       "999       815.793.8750x5252  \n",
       "1829     302-698-5926x49136  \n",
       "372   +1-370-863-0463x10452  "
      ]
     },
     "execution_count": 51,
     "metadata": {},
     "output_type": "execute_result"
    }
   ],
   "source": [
    "df.sort_values('stores_id').head(3)"
   ]
  },
  {
   "cell_type": "code",
   "execution_count": 52,
   "id": "44aa957e-a7c8-4972-9448-f2ba125fbcec",
   "metadata": {},
   "outputs": [],
   "source": [
    "Store = df.loc[:,['stores_id','store_name','location']]"
   ]
  },
  {
   "cell_type": "code",
   "execution_count": 53,
   "id": "1d8fff8f-9724-4ba7-bc93-56aa1cfbed44",
   "metadata": {},
   "outputs": [],
   "source": [
    "Store.columns=['id', 'name', 'location']"
   ]
  },
  {
   "cell_type": "code",
   "execution_count": 54,
   "id": "2c72f26c-0a27-4819-b18f-0d464cb32e68",
   "metadata": {},
   "outputs": [
    {
     "data": {
      "text/html": [
       "<div>\n",
       "<style scoped>\n",
       "    .dataframe tbody tr th:only-of-type {\n",
       "        vertical-align: middle;\n",
       "    }\n",
       "\n",
       "    .dataframe tbody tr th {\n",
       "        vertical-align: top;\n",
       "    }\n",
       "\n",
       "    .dataframe thead th {\n",
       "        text-align: right;\n",
       "    }\n",
       "</style>\n",
       "<table border=\"1\" class=\"dataframe\">\n",
       "  <thead>\n",
       "    <tr style=\"text-align: right;\">\n",
       "      <th></th>\n",
       "      <th>id</th>\n",
       "      <th>name</th>\n",
       "      <th>location</th>\n",
       "    </tr>\n",
       "  </thead>\n",
       "  <tbody>\n",
       "    <tr>\n",
       "      <th>0</th>\n",
       "      <td>92</td>\n",
       "      <td>Store rule</td>\n",
       "      <td>Port Franciscoland</td>\n",
       "    </tr>\n",
       "    <tr>\n",
       "      <th>1</th>\n",
       "      <td>90</td>\n",
       "      <td>Store expert</td>\n",
       "      <td>Nicoleview</td>\n",
       "    </tr>\n",
       "    <tr>\n",
       "      <th>2</th>\n",
       "      <td>81</td>\n",
       "      <td>Store that</td>\n",
       "      <td>North Timothyburgh</td>\n",
       "    </tr>\n",
       "  </tbody>\n",
       "</table>\n",
       "</div>"
      ],
      "text/plain": [
       "   id          name            location\n",
       "0  92    Store rule  Port Franciscoland\n",
       "1  90  Store expert          Nicoleview\n",
       "2  81    Store that  North Timothyburgh"
      ]
     },
     "execution_count": 54,
     "metadata": {},
     "output_type": "execute_result"
    }
   ],
   "source": [
    "Store.head(3)"
   ]
  },
  {
   "cell_type": "code",
   "execution_count": 55,
   "id": "741654ed-ec1b-4439-90f2-6f46f988301c",
   "metadata": {},
   "outputs": [
    {
     "data": {
      "text/html": [
       "<div>\n",
       "<style scoped>\n",
       "    .dataframe tbody tr th:only-of-type {\n",
       "        vertical-align: middle;\n",
       "    }\n",
       "\n",
       "    .dataframe tbody tr th {\n",
       "        vertical-align: top;\n",
       "    }\n",
       "\n",
       "    .dataframe thead th {\n",
       "        text-align: right;\n",
       "    }\n",
       "</style>\n",
       "<table border=\"1\" class=\"dataframe\">\n",
       "  <thead>\n",
       "    <tr style=\"text-align: right;\">\n",
       "      <th></th>\n",
       "      <th>id</th>\n",
       "      <th>name</th>\n",
       "      <th>location</th>\n",
       "    </tr>\n",
       "  </thead>\n",
       "  <tbody>\n",
       "    <tr>\n",
       "      <th>999</th>\n",
       "      <td>1</td>\n",
       "      <td>Store good</td>\n",
       "      <td>West Brandy</td>\n",
       "    </tr>\n",
       "    <tr>\n",
       "      <th>1829</th>\n",
       "      <td>1</td>\n",
       "      <td>Store good</td>\n",
       "      <td>West Brandy</td>\n",
       "    </tr>\n",
       "    <tr>\n",
       "      <th>372</th>\n",
       "      <td>1</td>\n",
       "      <td>Store good</td>\n",
       "      <td>West Brandy</td>\n",
       "    </tr>\n",
       "    <tr>\n",
       "      <th>1411</th>\n",
       "      <td>1</td>\n",
       "      <td>Store good</td>\n",
       "      <td>West Brandy</td>\n",
       "    </tr>\n",
       "    <tr>\n",
       "      <th>1434</th>\n",
       "      <td>1</td>\n",
       "      <td>Store good</td>\n",
       "      <td>West Brandy</td>\n",
       "    </tr>\n",
       "    <tr>\n",
       "      <th>72</th>\n",
       "      <td>1</td>\n",
       "      <td>Store good</td>\n",
       "      <td>West Brandy</td>\n",
       "    </tr>\n",
       "    <tr>\n",
       "      <th>794</th>\n",
       "      <td>1</td>\n",
       "      <td>Store good</td>\n",
       "      <td>West Brandy</td>\n",
       "    </tr>\n",
       "    <tr>\n",
       "      <th>1607</th>\n",
       "      <td>1</td>\n",
       "      <td>Store good</td>\n",
       "      <td>West Brandy</td>\n",
       "    </tr>\n",
       "    <tr>\n",
       "      <th>606</th>\n",
       "      <td>1</td>\n",
       "      <td>Store good</td>\n",
       "      <td>West Brandy</td>\n",
       "    </tr>\n",
       "    <tr>\n",
       "      <th>1453</th>\n",
       "      <td>1</td>\n",
       "      <td>Store good</td>\n",
       "      <td>West Brandy</td>\n",
       "    </tr>\n",
       "    <tr>\n",
       "      <th>1172</th>\n",
       "      <td>1</td>\n",
       "      <td>Store good</td>\n",
       "      <td>West Brandy</td>\n",
       "    </tr>\n",
       "    <tr>\n",
       "      <th>45</th>\n",
       "      <td>1</td>\n",
       "      <td>Store good</td>\n",
       "      <td>West Brandy</td>\n",
       "    </tr>\n",
       "    <tr>\n",
       "      <th>1791</th>\n",
       "      <td>1</td>\n",
       "      <td>Store good</td>\n",
       "      <td>West Brandy</td>\n",
       "    </tr>\n",
       "    <tr>\n",
       "      <th>391</th>\n",
       "      <td>1</td>\n",
       "      <td>Store good</td>\n",
       "      <td>West Brandy</td>\n",
       "    </tr>\n",
       "    <tr>\n",
       "      <th>1554</th>\n",
       "      <td>1</td>\n",
       "      <td>Store good</td>\n",
       "      <td>West Brandy</td>\n",
       "    </tr>\n",
       "    <tr>\n",
       "      <th>556</th>\n",
       "      <td>1</td>\n",
       "      <td>Store good</td>\n",
       "      <td>West Brandy</td>\n",
       "    </tr>\n",
       "    <tr>\n",
       "      <th>388</th>\n",
       "      <td>1</td>\n",
       "      <td>Store good</td>\n",
       "      <td>West Brandy</td>\n",
       "    </tr>\n",
       "    <tr>\n",
       "      <th>1462</th>\n",
       "      <td>1</td>\n",
       "      <td>Store good</td>\n",
       "      <td>West Brandy</td>\n",
       "    </tr>\n",
       "    <tr>\n",
       "      <th>249</th>\n",
       "      <td>1</td>\n",
       "      <td>Store good</td>\n",
       "      <td>West Brandy</td>\n",
       "    </tr>\n",
       "    <tr>\n",
       "      <th>1024</th>\n",
       "      <td>1</td>\n",
       "      <td>Store good</td>\n",
       "      <td>West Brandy</td>\n",
       "    </tr>\n",
       "    <tr>\n",
       "      <th>1336</th>\n",
       "      <td>1</td>\n",
       "      <td>Store good</td>\n",
       "      <td>West Brandy</td>\n",
       "    </tr>\n",
       "    <tr>\n",
       "      <th>593</th>\n",
       "      <td>1</td>\n",
       "      <td>Store good</td>\n",
       "      <td>West Brandy</td>\n",
       "    </tr>\n",
       "    <tr>\n",
       "      <th>1340</th>\n",
       "      <td>1</td>\n",
       "      <td>Store good</td>\n",
       "      <td>West Brandy</td>\n",
       "    </tr>\n",
       "    <tr>\n",
       "      <th>906</th>\n",
       "      <td>1</td>\n",
       "      <td>Store good</td>\n",
       "      <td>West Brandy</td>\n",
       "    </tr>\n",
       "    <tr>\n",
       "      <th>1746</th>\n",
       "      <td>1</td>\n",
       "      <td>Store good</td>\n",
       "      <td>West Brandy</td>\n",
       "    </tr>\n",
       "    <tr>\n",
       "      <th>859</th>\n",
       "      <td>1</td>\n",
       "      <td>Store good</td>\n",
       "      <td>West Brandy</td>\n",
       "    </tr>\n",
       "    <tr>\n",
       "      <th>898</th>\n",
       "      <td>1</td>\n",
       "      <td>Store good</td>\n",
       "      <td>West Brandy</td>\n",
       "    </tr>\n",
       "    <tr>\n",
       "      <th>967</th>\n",
       "      <td>1</td>\n",
       "      <td>Store good</td>\n",
       "      <td>West Brandy</td>\n",
       "    </tr>\n",
       "    <tr>\n",
       "      <th>997</th>\n",
       "      <td>1</td>\n",
       "      <td>Store good</td>\n",
       "      <td>West Brandy</td>\n",
       "    </tr>\n",
       "  </tbody>\n",
       "</table>\n",
       "</div>"
      ],
      "text/plain": [
       "      id        name     location\n",
       "999    1  Store good  West Brandy\n",
       "1829   1  Store good  West Brandy\n",
       "372    1  Store good  West Brandy\n",
       "1411   1  Store good  West Brandy\n",
       "1434   1  Store good  West Brandy\n",
       "72     1  Store good  West Brandy\n",
       "794    1  Store good  West Brandy\n",
       "1607   1  Store good  West Brandy\n",
       "606    1  Store good  West Brandy\n",
       "1453   1  Store good  West Brandy\n",
       "1172   1  Store good  West Brandy\n",
       "45     1  Store good  West Brandy\n",
       "1791   1  Store good  West Brandy\n",
       "391    1  Store good  West Brandy\n",
       "1554   1  Store good  West Brandy\n",
       "556    1  Store good  West Brandy\n",
       "388    1  Store good  West Brandy\n",
       "1462   1  Store good  West Brandy\n",
       "249    1  Store good  West Brandy\n",
       "1024   1  Store good  West Brandy\n",
       "1336   1  Store good  West Brandy\n",
       "593    1  Store good  West Brandy\n",
       "1340   1  Store good  West Brandy\n",
       "906    1  Store good  West Brandy\n",
       "1746   1  Store good  West Brandy\n",
       "859    1  Store good  West Brandy\n",
       "898    1  Store good  West Brandy\n",
       "967    1  Store good  West Brandy\n",
       "997    1  Store good  West Brandy"
      ]
     },
     "execution_count": 55,
     "metadata": {},
     "output_type": "execute_result"
    }
   ],
   "source": [
    "Store.sort_values('id').head(29)"
   ]
  },
  {
   "cell_type": "code",
   "execution_count": 56,
   "id": "0102a4d9-1405-4610-953d-a0544b510cf8",
   "metadata": {},
   "outputs": [],
   "source": [
    "from sqlalchemy import create_engine"
   ]
  },
  {
   "cell_type": "code",
   "execution_count": 57,
   "id": "f1294b1f-b7a4-44e0-8ed1-ff89cdcf1684",
   "metadata": {},
   "outputs": [],
   "source": [
    "engine = create_engine('sqlite:///loja.db')"
   ]
  },
  {
   "cell_type": "code",
   "execution_count": 58,
   "id": "52ea1526-3c77-439b-a4c8-bf0e34b900f4",
   "metadata": {},
   "outputs": [
    {
     "data": {
      "text/plain": [
       "2000"
      ]
     },
     "execution_count": 58,
     "metadata": {},
     "output_type": "execute_result"
    }
   ],
   "source": [
    "Store.to_sql('Store', con =engine, if_exists='replace', index=False)"
   ]
  },
  {
   "cell_type": "code",
   "execution_count": 59,
   "id": "97102873-ce92-4990-8a67-bac35169fce2",
   "metadata": {},
   "outputs": [],
   "source": [
    "Product = df.loc[:,['products_id','product_name','category','price']]"
   ]
  },
  {
   "cell_type": "code",
   "execution_count": 60,
   "id": "432f7509-6366-4c21-8095-a11c16789146",
   "metadata": {},
   "outputs": [],
   "source": [
    "Product.columns=['id', 'name', 'category', 'price']"
   ]
  },
  {
   "cell_type": "code",
   "execution_count": 61,
   "id": "3a0007a0-2010-4258-98ad-ce1ce52d94d9",
   "metadata": {},
   "outputs": [
    {
     "data": {
      "text/html": [
       "<div>\n",
       "<style scoped>\n",
       "    .dataframe tbody tr th:only-of-type {\n",
       "        vertical-align: middle;\n",
       "    }\n",
       "\n",
       "    .dataframe tbody tr th {\n",
       "        vertical-align: top;\n",
       "    }\n",
       "\n",
       "    .dataframe thead th {\n",
       "        text-align: right;\n",
       "    }\n",
       "</style>\n",
       "<table border=\"1\" class=\"dataframe\">\n",
       "  <thead>\n",
       "    <tr style=\"text-align: right;\">\n",
       "      <th></th>\n",
       "      <th>id</th>\n",
       "      <th>name</th>\n",
       "      <th>category</th>\n",
       "      <th>price</th>\n",
       "    </tr>\n",
       "  </thead>\n",
       "  <tbody>\n",
       "    <tr>\n",
       "      <th>0</th>\n",
       "      <td>414</td>\n",
       "      <td>style</td>\n",
       "      <td>Electronics</td>\n",
       "      <td>414</td>\n",
       "    </tr>\n",
       "    <tr>\n",
       "      <th>1</th>\n",
       "      <td>113</td>\n",
       "      <td>claim</td>\n",
       "      <td>Home</td>\n",
       "      <td>463</td>\n",
       "    </tr>\n",
       "    <tr>\n",
       "      <th>2</th>\n",
       "      <td>297</td>\n",
       "      <td>pass</td>\n",
       "      <td>Clothing</td>\n",
       "      <td>437</td>\n",
       "    </tr>\n",
       "  </tbody>\n",
       "</table>\n",
       "</div>"
      ],
      "text/plain": [
       "    id   name     category  price\n",
       "0  414  style  Electronics    414\n",
       "1  113  claim         Home    463\n",
       "2  297   pass     Clothing    437"
      ]
     },
     "execution_count": 61,
     "metadata": {},
     "output_type": "execute_result"
    }
   ],
   "source": [
    "Product.head(3)"
   ]
  },
  {
   "cell_type": "code",
   "execution_count": 62,
   "id": "7de5a013-3fc2-4aed-9a08-ef3c91006d99",
   "metadata": {},
   "outputs": [
    {
     "data": {
      "text/plain": [
       "2000"
      ]
     },
     "execution_count": 62,
     "metadata": {},
     "output_type": "execute_result"
    }
   ],
   "source": [
    "Product.to_sql('Product', con =engine, if_exists='replace', index=False)"
   ]
  },
  {
   "cell_type": "code",
   "execution_count": 63,
   "id": "2ce4a8fe-557d-4a87-8022-db25aa3106d8",
   "metadata": {},
   "outputs": [],
   "source": [
    "Suplier = df.loc[:,['suppliers_id','supplier_name','contact']]"
   ]
  },
  {
   "cell_type": "code",
   "execution_count": 64,
   "id": "8c03659e-40bb-4760-9193-ba015f621f9c",
   "metadata": {},
   "outputs": [],
   "source": [
    "Suplier.columns=['id', 'name', 'contact']"
   ]
  },
  {
   "cell_type": "code",
   "execution_count": 65,
   "id": "f26ee743-8001-49c9-b142-45a592363002",
   "metadata": {},
   "outputs": [
    {
     "data": {
      "text/plain": [
       "2000"
      ]
     },
     "execution_count": 65,
     "metadata": {},
     "output_type": "execute_result"
    }
   ],
   "source": [
    "Suplier.to_sql('Supplier', con =engine, if_exists='replace', index=False)"
   ]
  },
  {
   "cell_type": "code",
   "execution_count": 66,
   "id": "baac7f46-1f37-4be3-a486-687dacddac17",
   "metadata": {},
   "outputs": [],
   "source": [
    "Stock = df.loc[:,['stores_id', 'products_id','stock_level','restock_date']]"
   ]
  },
  {
   "cell_type": "code",
   "execution_count": 67,
   "id": "01cedf21-7829-4547-bb91-28b31df322fa",
   "metadata": {},
   "outputs": [
    {
     "data": {
      "text/html": [
       "<div>\n",
       "<style scoped>\n",
       "    .dataframe tbody tr th:only-of-type {\n",
       "        vertical-align: middle;\n",
       "    }\n",
       "\n",
       "    .dataframe tbody tr th {\n",
       "        vertical-align: top;\n",
       "    }\n",
       "\n",
       "    .dataframe thead th {\n",
       "        text-align: right;\n",
       "    }\n",
       "</style>\n",
       "<table border=\"1\" class=\"dataframe\">\n",
       "  <thead>\n",
       "    <tr style=\"text-align: right;\">\n",
       "      <th></th>\n",
       "      <th>stores_id</th>\n",
       "      <th>products_id</th>\n",
       "      <th>stock_level</th>\n",
       "      <th>restock_date</th>\n",
       "    </tr>\n",
       "  </thead>\n",
       "  <tbody>\n",
       "    <tr>\n",
       "      <th>0</th>\n",
       "      <td>92</td>\n",
       "      <td>414</td>\n",
       "      <td>86</td>\n",
       "      <td>12/01/2025</td>\n",
       "    </tr>\n",
       "    <tr>\n",
       "      <th>1</th>\n",
       "      <td>90</td>\n",
       "      <td>113</td>\n",
       "      <td>73</td>\n",
       "      <td>09/01/2025</td>\n",
       "    </tr>\n",
       "    <tr>\n",
       "      <th>2</th>\n",
       "      <td>81</td>\n",
       "      <td>297</td>\n",
       "      <td>37</td>\n",
       "      <td>29/01/2025</td>\n",
       "    </tr>\n",
       "  </tbody>\n",
       "</table>\n",
       "</div>"
      ],
      "text/plain": [
       "   stores_id  products_id  stock_level restock_date\n",
       "0         92          414           86   12/01/2025\n",
       "1         90          113           73   09/01/2025\n",
       "2         81          297           37   29/01/2025"
      ]
     },
     "execution_count": 67,
     "metadata": {},
     "output_type": "execute_result"
    }
   ],
   "source": [
    "Stock.head(3)"
   ]
  },
  {
   "cell_type": "code",
   "execution_count": 68,
   "id": "dde3b893-2c39-48c7-bc58-a5e03a43abb5",
   "metadata": {},
   "outputs": [],
   "source": [
    "Stock.columns=['store_id', 'product_id', 'level', 'restock_date']"
   ]
  },
  {
   "cell_type": "code",
   "execution_count": 69,
   "id": "86ce7743-6d96-4185-875e-91931888752b",
   "metadata": {},
   "outputs": [],
   "source": [
    "Stock.insert(0, 'id', range(1,len(Stock)+1))"
   ]
  },
  {
   "cell_type": "code",
   "execution_count": 70,
   "id": "19b8a7ca-0ffc-489c-8cbe-b3017b09504a",
   "metadata": {},
   "outputs": [
    {
     "data": {
      "text/plain": [
       "2000"
      ]
     },
     "execution_count": 70,
     "metadata": {},
     "output_type": "execute_result"
    }
   ],
   "source": [
    "Stock.to_sql('Stock', con =engine, if_exists='replace', index=False)"
   ]
  },
  {
   "cell_type": "code",
   "execution_count": null,
   "id": "282b54ce-13ea-4c51-b5e2-18d3d9717ecb",
   "metadata": {},
   "outputs": [],
   "source": []
  },
  {
   "cell_type": "code",
   "execution_count": null,
   "id": "17d759e2-3f51-470a-8f39-e6e4c927514a",
   "metadata": {},
   "outputs": [],
   "source": []
  }
 ],
 "metadata": {
  "kernelspec": {
   "display_name": "Python 3 (ipykernel)",
   "language": "python",
   "name": "python3"
  },
  "language_info": {
   "codemirror_mode": {
    "name": "ipython",
    "version": 3
   },
   "file_extension": ".py",
   "mimetype": "text/x-python",
   "name": "python",
   "nbconvert_exporter": "python",
   "pygments_lexer": "ipython3",
   "version": "3.12.4"
  }
 },
 "nbformat": 4,
 "nbformat_minor": 5
}
